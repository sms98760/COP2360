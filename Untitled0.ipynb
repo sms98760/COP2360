{
  "nbformat": 4,
  "nbformat_minor": 0,
  "metadata": {
    "colab": {
      "provenance": [],
      "authorship_tag": "ABX9TyMMEAjuNo3HPVPrQjZtwHyI",
      "include_colab_link": true
    },
    "kernelspec": {
      "name": "python3",
      "display_name": "Python 3"
    },
    "language_info": {
      "name": "python"
    }
  },
  "cells": [
    {
      "cell_type": "markdown",
      "metadata": {
        "id": "view-in-github",
        "colab_type": "text"
      },
      "source": [
        "<a href=\"https://colab.research.google.com/github/sms98760/COP2360/blob/main/Untitled0.ipynb\" target=\"_parent\"><img src=\"https://colab.research.google.com/assets/colab-badge.svg\" alt=\"Open In Colab\"/></a>"
      ]
    },
    {
      "cell_type": "code",
      "execution_count": null,
      "metadata": {
        "id": "olt6kfeKrKjT"
      },
      "outputs": [],
      "source": []
    },
    {
      "cell_type": "markdown",
      "source": [
        "# This is my introduction\n",
        "My name is Steevenson Saint Martin"
      ],
      "metadata": {
        "id": "Ps8Ze61vtqXC"
      }
    },
    {
      "cell_type": "code",
      "source": [
        "water = 5\n",
        "fruit = 7\n",
        "total = water + fruit\n",
        "\n",
        "print(\"The total is\", total, \"$\")"
      ],
      "metadata": {
        "colab": {
          "base_uri": "https://localhost:8080/"
        },
        "id": "nVjs4Ic4uBVh",
        "outputId": "e757c115-1cfa-45dc-9862-23d5699f3dc3"
      },
      "execution_count": 3,
      "outputs": [
        {
          "output_type": "stream",
          "name": "stdout",
          "text": [
            "The total is 12 $\n"
          ]
        }
      ]
    }
  ]
}